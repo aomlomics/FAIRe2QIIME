{
 "cells": [
  {
   "cell_type": "code",
   "execution_count": 1,
   "metadata": {},
   "outputs": [],
   "source": [
    "import pandas as pd"
   ]
  },
  {
   "cell_type": "code",
   "execution_count": 2,
   "metadata": {},
   "outputs": [],
   "source": [
    "path_faire = '/Users/luke.thompson/Google Drive/My Drive/NOAA/mbon-seus/metadata/FAIRe-ODE_noaa-aoml-seusmbon_20250909.xlsx'\n",
    "absolute_path_sequences = '/work/orion/projects/datasets/aomlomics/sequences/MichiganState'\n",
    "output_directory = '.' #'/Users/luke.thompson/Google Drive/My Drive/NOAA/mbon-seus/metadata/metadata'"
   ]
  },
  {
   "cell_type": "code",
   "execution_count": 3,
   "metadata": {},
   "outputs": [],
   "source": [
    "df_project = pd.read_excel(path_faire, sheet_name='projectMetadata', comment='#')\n",
    "df_sample = pd.read_excel(path_faire, sheet_name='sampleMetadata', comment='#')\n",
    "df_exptrun = pd.read_excel(path_faire, sheet_name='experimentRunMetadata', comment='#')"
   ]
  },
  {
   "cell_type": "code",
   "execution_count": 4,
   "metadata": {},
   "outputs": [],
   "source": [
    "# Remove first 2 columns from df_project, set field_name column as the index, and transpose the DataFrame\n",
    "df_project_first_2_cols_removed = df_project.iloc[:, 2:]\n",
    "df_project_first_2_cols_removed.set_index('term_name', inplace=True)\n",
    "df_project_wide = df_project_first_2_cols_removed.transpose()\n",
    "# From df_project_wide, get the project_id\n",
    "project_id = df_project_wide['project_id'].iloc[0]\n",
    "# Fill missing values in assay-level data with project-level data\n",
    "first_row_values = df_project_wide.loc['project_level']\n",
    "df_project_filled = df_project_wide.fillna(first_row_values)"
   ]
  },
  {
   "cell_type": "code",
   "execution_count": 5,
   "metadata": {},
   "outputs": [],
   "source": [
    "# From df_exptrun get the unique values of the 'seq_run_id' and 'assay_name' columns\n",
    "seq_run_ids = df_exptrun['seq_run_id'].unique()\n",
    "assay_names = df_exptrun['assay_name'].unique()\n",
    "# Throw error if the values of 'assay_name' are not the same in df_project and df_exptrun\n",
    "if set(assay_names) != set(df_exptrun['assay_name'].dropna()):\n",
    "    raise ValueError(\"Inconsistent assay names between projectMetadata and experimentRunMetadata.\")"
   ]
  },
  {
   "cell_type": "code",
   "execution_count": null,
   "metadata": {},
   "outputs": [],
   "source": [
    "# Create metadata file for each assay_name (filename with abbreviated marker gene and subfragment)\n",
    "# For each assay_name, get the corresponding rows of df_exptrun, merge with df_samples on samp_name, add project/assay-specific metadata as new columns, drop empty columns, and save to a tsv file\n",
    "for assay_name in df_exptrun['assay_name'].unique():\n",
    "    metadata = df_exptrun[df_exptrun['assay_name'] == assay_name].merge(df_sample, on='samp_name', how='left')\n",
    "    metadata = pd.merge(metadata, df_project_filled.loc[assay_name].to_frame().transpose(), how='cross')\n",
    "    metadata.dropna(axis=1, how='all', inplace=True)\n",
    "    gene = df_project_filled.loc[assay_name]['target_gene'].split(' ')[0]\n",
    "    subfragment = df_project_filled.loc[assay_name]['target_subfragment']\n",
    "    subfragment_part = subfragment.split(' ')[0].replace('-', '').replace('_', '') if isinstance(subfragment, str) and subfragment.strip() else ''\n",
    "    if subfragment_part:\n",
    "        target_gene_subfragment = f\"{gene}-{subfragment_part}\"\n",
    "    else:\n",
    "        target_gene_subfragment = gene\n",
    "    metadata.to_csv(f\"{output_directory}/seusmbon_{target_gene_subfragment}_metadata.tsv\", sep='\\t', index=False)"
   ]
  },
  {
   "cell_type": "code",
   "execution_count": null,
   "metadata": {},
   "outputs": [],
   "source": [
    "# Create manifest file for each seq_run_id\n",
    "for seq_run_id in seq_run_ids:\n",
    "    manifest = df_exptrun[df_exptrun['seq_run_id'] == seq_run_id][['samp_name', 'filename', 'filename2']]\n",
    "    manifest['filename'] = absolute_path_sequences + '/' + f'{seq_run_id}' + '/' + manifest['filename']\n",
    "    manifest['filename2'] = absolute_path_sequences + '/' + f'{seq_run_id}' + '/' + manifest['filename2']\n",
    "    manifest.columns = ['sample-id', 'forward-absolute-filepath', 'reverse-absolute-filepath']\n",
    "    manifest.to_csv(f\"{output_directory}/{seq_run_id}_manifest.tsv\", sep='\\t', index=False)"
   ]
  },
  {
   "cell_type": "code",
   "execution_count": null,
   "metadata": {},
   "outputs": [],
   "source": []
  }
 ],
 "metadata": {
  "kernelspec": {
   "display_name": "pandas",
   "language": "python",
   "name": "python3"
  },
  "language_info": {
   "codemirror_mode": {
    "name": "ipython",
    "version": 3
   },
   "file_extension": ".py",
   "mimetype": "text/x-python",
   "name": "python",
   "nbconvert_exporter": "python",
   "pygments_lexer": "ipython3",
   "version": "3.11.3"
  }
 },
 "nbformat": 4,
 "nbformat_minor": 2
}
